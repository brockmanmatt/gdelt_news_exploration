{
  "nbformat": 4,
  "nbformat_minor": 0,
  "metadata": {
    "colab": {
      "name": "LabelTweets.ipynb",
      "provenance": [],
      "collapsed_sections": [],
      "include_colab_link": true
    },
    "kernelspec": {
      "name": "python3",
      "display_name": "Python 3"
    }
  },
  "cells": [
    {
      "cell_type": "markdown",
      "metadata": {
        "id": "view-in-github",
        "colab_type": "text"
      },
      "source": [
        "<a href=\"https://colab.research.google.com/github/brockmanmatt/gdelt_news_exploration/blob/master/LabelTweets.ipynb\" target=\"_parent\"><img src=\"https://colab.research.google.com/assets/colab-badge.svg\" alt=\"Open In Colab\"/></a>"
      ]
    },
    {
      "cell_type": "markdown",
      "metadata": {
        "id": "bIXR5gRZ2Qxw",
        "colab_type": "text"
      },
      "source": [
        "Status:\n",
        "\n",
        "|Section |Status|ToDo|AdditionalRefs|\n",
        "|--------|-----|---|---|\n",
        "|--Tweets--||||\n",
        "|Load Tweets|Done||\n",
        "|Create Digraphs|Done|Identify Variants\n",
        "|Other NLP||||\n",
        "|--Articles--|\n",
        "|Load Articles|Done|||\n",
        "|Extract Labels|Done|||\n",
        "|Create Custom Labels||||\n",
        "|--Combined Sets--||||\n",
        "|Check People Overlap|Done|||\n",
        "|Check Location Overlap||||\n",
        "\n"
      ]
    },
    {
      "cell_type": "markdown",
      "metadata": {
        "id": "_L4gZcQk4Zie",
        "colab_type": "text"
      },
      "source": [
        "##### This is for colab; it connects the colab to Google drive. The articles and GDELT data are already on my drive"
      ]
    },
    {
      "cell_type": "code",
      "metadata": {
        "id": "844PnfYnTOOk",
        "colab_type": "code",
        "outputId": "0efbcfc6-4ac1-4829-8b2f-66e4e20a47de",
        "colab": {
          "base_uri": "https://localhost:8080/",
          "height": 34
        }
      },
      "source": [
        "from google.colab import drive\n",
        "drive.mount('/content/gdrive')\n",
        "\n"
      ],
      "execution_count": 0,
      "outputs": [
        {
          "output_type": "stream",
          "text": [
            "Drive already mounted at /content/gdrive; to attempt to forcibly remount, call drive.mount(\"/content/gdrive\", force_remount=True).\n"
          ],
          "name": "stdout"
        }
      ]
    },
    {
      "cell_type": "code",
      "metadata": {
        "id": "3f6LFyFXUBBA",
        "colab_type": "code",
        "colab": {}
      },
      "source": [
        "import pandas as pd\n",
        "import datetime as dt\n",
        "import pytz\n",
        "from nltk.stem.snowball import SnowballStemmer\n",
        "from sklearn.feature_extraction.text import CountVectorizer\n",
        "import numpy as np\n",
        "from collections import Counter\n"
      ],
      "execution_count": 0,
      "outputs": []
    },
    {
      "cell_type": "code",
      "metadata": {
        "id": "gOOV5NOXT3gz",
        "colab_type": "code",
        "outputId": "caec0723-2dfc-414a-e7c5-ac83e0c77a85",
        "colab": {
          "base_uri": "https://localhost:8080/",
          "height": 34
        }
      },
      "source": [
        "cd /content/gdrive/My Drive/TrumpTweets"
      ],
      "execution_count": 0,
      "outputs": [
        {
          "output_type": "stream",
          "text": [
            "/content/gdrive/My Drive/TrumpTweets\n"
          ],
          "name": "stdout"
        }
      ]
    },
    {
      "cell_type": "markdown",
      "metadata": {
        "id": "gTT5o0Yx4ykK",
        "colab_type": "text"
      },
      "source": [
        "##### Acknowledging at the start, this is going to not catch important issues; e.g. the cat tweet with the hurricane. So might need to do that sort of thing by hand."
      ]
    },
    {
      "cell_type": "markdown",
      "metadata": {
        "id": "MFaGUiPFWBY6",
        "colab_type": "text"
      },
      "source": [
        "###loading all of Trump's tweets until 21 December; I'll go and just pull those starting Jan 2017"
      ]
    },
    {
      "cell_type": "code",
      "metadata": {
        "id": "myaxNgoVT7je",
        "colab_type": "code",
        "colab": {}
      },
      "source": [
        "tweets = pd.read_json(\"Data/TrumpTweets.json\")"
      ],
      "execution_count": 0,
      "outputs": []
    },
    {
      "cell_type": "code",
      "metadata": {
        "id": "wuWYbrkwUkn7",
        "colab_type": "code",
        "outputId": "234edbdd-e442-4c5b-88db-5ec1a7542cf8",
        "colab": {
          "base_uri": "https://localhost:8080/",
          "height": 34
        }
      },
      "source": [
        "# Checking with the tweets (e.g. for 1, https://twitter.com/realDonaldTrump/status/1208494102062477312), these are indeed the UTC time of the tweets\n",
        "tweets.loc[1, \"created_at\"]"
      ],
      "execution_count": 0,
      "outputs": [
        {
          "output_type": "execute_result",
          "data": {
            "text/plain": [
              "Timestamp('2019-12-21 21:07:01+0000', tz='UTC')"
            ]
          },
          "metadata": {
            "tags": []
          },
          "execution_count": 38
        }
      ]
    },
    {
      "cell_type": "code",
      "metadata": {
        "id": "KmMYiSQEUOF6",
        "colab_type": "code",
        "colab": {}
      },
      "source": [
        "tweets = tweets[tweets[\"created_at\"] >= dt.datetime(2017,1,1, 0,0,0,0, pytz.UTC)]"
      ],
      "execution_count": 0,
      "outputs": []
    },
    {
      "cell_type": "code",
      "metadata": {
        "id": "AhLF_hOWTZXb",
        "colab_type": "code",
        "outputId": "58234a00-4973-42fb-809a-e2fe550f03d4",
        "colab": {
          "base_uri": "https://localhost:8080/",
          "height": 202
        }
      },
      "source": [
        "tweets.head()"
      ],
      "execution_count": 0,
      "outputs": [
        {
          "output_type": "execute_result",
          "data": {
            "text/html": [
              "<div>\n",
              "<style scoped>\n",
              "    .dataframe tbody tr th:only-of-type {\n",
              "        vertical-align: middle;\n",
              "    }\n",
              "\n",
              "    .dataframe tbody tr th {\n",
              "        vertical-align: top;\n",
              "    }\n",
              "\n",
              "    .dataframe thead th {\n",
              "        text-align: right;\n",
              "    }\n",
              "</style>\n",
              "<table border=\"1\" class=\"dataframe\">\n",
              "  <thead>\n",
              "    <tr style=\"text-align: right;\">\n",
              "      <th></th>\n",
              "      <th>source</th>\n",
              "      <th>text</th>\n",
              "      <th>created_at</th>\n",
              "      <th>retweet_count</th>\n",
              "      <th>favorite_count</th>\n",
              "      <th>is_retweet</th>\n",
              "      <th>id_str</th>\n",
              "    </tr>\n",
              "  </thead>\n",
              "  <tbody>\n",
              "    <tr>\n",
              "      <th>0</th>\n",
              "      <td>Twitter for iPhone</td>\n",
              "      <td>RT @WhiteHouse: LIVE: President @realDonaldTru...</td>\n",
              "      <td>2019-12-22 00:15:33+00:00</td>\n",
              "      <td>4668</td>\n",
              "      <td>0</td>\n",
              "      <td>1.0</td>\n",
              "      <td>1208541550424264704</td>\n",
              "    </tr>\n",
              "    <tr>\n",
              "      <th>1</th>\n",
              "      <td>Twitter for iPhone</td>\n",
              "      <td>https://t.co/h5bAKuoyV2</td>\n",
              "      <td>2019-12-21 21:07:01+00:00</td>\n",
              "      <td>19483</td>\n",
              "      <td>66120</td>\n",
              "      <td>0.0</td>\n",
              "      <td>1208494102062477312</td>\n",
              "    </tr>\n",
              "    <tr>\n",
              "      <th>2</th>\n",
              "      <td>Twitter for iPhone</td>\n",
              "      <td>Last night I was so proud to have signed the l...</td>\n",
              "      <td>2019-12-21 19:38:25+00:00</td>\n",
              "      <td>19265</td>\n",
              "      <td>88649</td>\n",
              "      <td>0.0</td>\n",
              "      <td>1208471806815997952</td>\n",
              "    </tr>\n",
              "    <tr>\n",
              "      <th>3</th>\n",
              "      <td>Twitter for iPhone</td>\n",
              "      <td>https://t.co/aVE8FY0eP0 https://t.co/5iTkl6q9oQ</td>\n",
              "      <td>2019-12-21 05:39:23+00:00</td>\n",
              "      <td>13942</td>\n",
              "      <td>50093</td>\n",
              "      <td>0.0</td>\n",
              "      <td>1208260654571896832</td>\n",
              "    </tr>\n",
              "    <tr>\n",
              "      <th>4</th>\n",
              "      <td>Twitter for iPhone</td>\n",
              "      <td>The great Democrat disgrace. But we are winnin...</td>\n",
              "      <td>2019-12-21 04:50:58+00:00</td>\n",
              "      <td>13039</td>\n",
              "      <td>49823</td>\n",
              "      <td>0.0</td>\n",
              "      <td>1208248471200899072</td>\n",
              "    </tr>\n",
              "  </tbody>\n",
              "</table>\n",
              "</div>"
            ],
            "text/plain": [
              "               source  ...               id_str\n",
              "0  Twitter for iPhone  ...  1208541550424264704\n",
              "1  Twitter for iPhone  ...  1208494102062477312\n",
              "2  Twitter for iPhone  ...  1208471806815997952\n",
              "3  Twitter for iPhone  ...  1208260654571896832\n",
              "4  Twitter for iPhone  ...  1208248471200899072\n",
              "\n",
              "[5 rows x 7 columns]"
            ]
          },
          "metadata": {
            "tags": []
          },
          "execution_count": 40
        }
      ]
    },
    {
      "cell_type": "code",
      "metadata": {
        "id": "39oaMCZHWPAs",
        "colab_type": "code",
        "outputId": "222b4dd4-7dfd-4863-bc88-3bc8f3778da7",
        "colab": {
          "base_uri": "https://localhost:8080/",
          "height": 34
        }
      },
      "source": [
        "\"This has {} tweets\".format(len(tweets))"
      ],
      "execution_count": 0,
      "outputs": [
        {
          "output_type": "execute_result",
          "data": {
            "text/plain": [
              "'This has 13778 tweets'"
            ]
          },
          "metadata": {
            "tags": []
          },
          "execution_count": 41
        }
      ]
    },
    {
      "cell_type": "markdown",
      "metadata": {
        "id": "lYLJ3iSdbHKF",
        "colab_type": "text"
      },
      "source": [
        "##### So, what do I get when I run TFIDF on the tweets? I actually only care about labeling the digraphs now that I think about it and removing stopwords (There's probably better ways to label tweets, e.g. pulling issues from articles which I'll do below, but let's try!) NOTE: THIS INCLUDES RETWEETS, not sure if should remove or not"
      ]
    },
    {
      "cell_type": "code",
      "metadata": {
        "id": "4BtJ6APcbG_6",
        "colab_type": "code",
        "colab": {}
      },
      "source": [
        "stemmer = SnowballStemmer(\"english\")\n",
        "tweets['stemmed'] = tweets.text.map(lambda x: ' '.join([stemmer.stem(word) for word in x.lower().split(' ')]))"
      ],
      "execution_count": 0,
      "outputs": []
    },
    {
      "cell_type": "code",
      "metadata": {
        "id": "sB9thCa9dwvf",
        "colab_type": "code",
        "outputId": "9f2ed9f5-58bd-48b8-cbc8-51fad8cea055",
        "colab": {
          "base_uri": "https://localhost:8080/",
          "height": 145
        }
      },
      "source": [
        "tweets.head(2)"
      ],
      "execution_count": 0,
      "outputs": [
        {
          "output_type": "execute_result",
          "data": {
            "text/html": [
              "<div>\n",
              "<style scoped>\n",
              "    .dataframe tbody tr th:only-of-type {\n",
              "        vertical-align: middle;\n",
              "    }\n",
              "\n",
              "    .dataframe tbody tr th {\n",
              "        vertical-align: top;\n",
              "    }\n",
              "\n",
              "    .dataframe thead th {\n",
              "        text-align: right;\n",
              "    }\n",
              "</style>\n",
              "<table border=\"1\" class=\"dataframe\">\n",
              "  <thead>\n",
              "    <tr style=\"text-align: right;\">\n",
              "      <th></th>\n",
              "      <th>source</th>\n",
              "      <th>text</th>\n",
              "      <th>created_at</th>\n",
              "      <th>retweet_count</th>\n",
              "      <th>favorite_count</th>\n",
              "      <th>is_retweet</th>\n",
              "      <th>id_str</th>\n",
              "      <th>stemmed</th>\n",
              "    </tr>\n",
              "  </thead>\n",
              "  <tbody>\n",
              "    <tr>\n",
              "      <th>0</th>\n",
              "      <td>Twitter for iPhone</td>\n",
              "      <td>RT @WhiteHouse: LIVE: President @realDonaldTru...</td>\n",
              "      <td>2019-12-22 00:15:33+00:00</td>\n",
              "      <td>4668</td>\n",
              "      <td>0</td>\n",
              "      <td>1.0</td>\n",
              "      <td>1208541550424264704</td>\n",
              "      <td>rt @whitehouse: live: presid @realdonaldtrump ...</td>\n",
              "    </tr>\n",
              "    <tr>\n",
              "      <th>1</th>\n",
              "      <td>Twitter for iPhone</td>\n",
              "      <td>https://t.co/h5bAKuoyV2</td>\n",
              "      <td>2019-12-21 21:07:01+00:00</td>\n",
              "      <td>19483</td>\n",
              "      <td>66120</td>\n",
              "      <td>0.0</td>\n",
              "      <td>1208494102062477312</td>\n",
              "      <td>https://t.co/h5bakuoyv2</td>\n",
              "    </tr>\n",
              "  </tbody>\n",
              "</table>\n",
              "</div>"
            ],
            "text/plain": [
              "               source  ...                                            stemmed\n",
              "0  Twitter for iPhone  ...  rt @whitehouse: live: presid @realdonaldtrump ...\n",
              "1  Twitter for iPhone  ...                            https://t.co/h5bakuoyv2\n",
              "\n",
              "[2 rows x 8 columns]"
            ]
          },
          "metadata": {
            "tags": []
          },
          "execution_count": 43
        }
      ]
    },
    {
      "cell_type": "code",
      "metadata": {
        "id": "Wpj7Fg8ubFRr",
        "colab_type": "code",
        "outputId": "e54d1ae3-3f83-4929-824b-335660504ef5",
        "colab": {
          "base_uri": "https://localhost:8080/",
          "height": 121
        }
      },
      "source": [
        "count_vectorizer = CountVectorizer(stop_words='english', max_df=.3, ngram_range=(1,3))\n",
        "count_vectorizer.fit(tweets.stemmed)\n"
      ],
      "execution_count": 0,
      "outputs": [
        {
          "output_type": "execute_result",
          "data": {
            "text/plain": [
              "CountVectorizer(analyzer='word', binary=False, decode_error='strict',\n",
              "                dtype=<class 'numpy.int64'>, encoding='utf-8', input='content',\n",
              "                lowercase=True, max_df=0.3, max_features=None, min_df=1,\n",
              "                ngram_range=(1, 3), preprocessor=None, stop_words='english',\n",
              "                strip_accents=None, token_pattern='(?u)\\\\b\\\\w\\\\w+\\\\b',\n",
              "                tokenizer=None, vocabulary=None)"
            ]
          },
          "metadata": {
            "tags": []
          },
          "execution_count": 44
        }
      ]
    },
    {
      "cell_type": "code",
      "metadata": {
        "id": "oQoA8SfucKya",
        "colab_type": "code",
        "outputId": "2cd8f279-14c0-40b8-ab99-ae0e4f669384",
        "colab": {
          "base_uri": "https://localhost:8080/",
          "height": 34
        }
      },
      "source": [
        "\"{} total unique terms identified\".format(len(count_vectorizer.vocabulary_))\n"
      ],
      "execution_count": 0,
      "outputs": [
        {
          "output_type": "execute_result",
          "data": {
            "text/plain": [
              "'293695 total unique terms identified'"
            ]
          },
          "metadata": {
            "tags": []
          },
          "execution_count": 45
        }
      ]
    },
    {
      "cell_type": "code",
      "metadata": {
        "id": "QoWgI_4Ph3ro",
        "colab_type": "code",
        "colab": {}
      },
      "source": [
        "vec_counts = count_vectorizer.transform(tweets.stemmed)\n"
      ],
      "execution_count": 0,
      "outputs": []
    },
    {
      "cell_type": "code",
      "metadata": {
        "id": "amuEEe0fh3o2",
        "colab_type": "code",
        "outputId": "7f3ebeaa-619f-4857-c4df-67bee08f91ca",
        "colab": {
          "base_uri": "https://localhost:8080/",
          "height": 190
        }
      },
      "source": [
        "counts = np.asarray(vec_counts.sum(axis=0)).ravel().tolist()\n",
        "counts_df = pd.DataFrame({'phrase': count_vectorizer.get_feature_names(), 'TweetCounts': counts})\n",
        "for i in range(10):\n",
        "  print(\"; \".join(counts_df.sort_values(by='TweetCounts', ascending=False)[\"phrase\"].to_list()[10*i:10*(i+1)]))\n"
      ],
      "execution_count": 0,
      "outputs": [
        {
          "output_type": "stream",
          "text": [
            "https; rt; great; amp; presid; democrat; trump; veri; just; realdonaldtrump\n",
            "peopl; thank; news; state; big; fake; new; border; want; american\n",
            "time; today; work; mani; america; make; job; year; vote; republican\n",
            "countri; fake news; look; media; good; unit; don; nation; like; impeach\n",
            "day; total; bad; deal; come; country; china; report; onli; dem\n",
            "win; crime; becaus; know; rt realdonaldtrump; hous; tax; trade; noth; wall\n",
            "need; way; strong; whi; said; fbi; did; senat; say; meet\n",
            "russia; thing; love; hunt; help; witch; witch hunt; world; honor; obama\n",
            "congress; hard; whitehouse; presid trump; law; high; north; support; watch; unit state\n",
            "ani; campaign; elect; mueller; people; schiff; realli; far; right; years\n"
          ],
          "name": "stdout"
        }
      ]
    },
    {
      "cell_type": "markdown",
      "metadata": {
        "id": "whUWkHDtjeR4",
        "colab_type": "text"
      },
      "source": [
        "## So with en/di/trigraphs alone, we get a bunch of words! that's nice (I should remove https, rt, realdonaldtrump as stopwords). No point in throwing in the IDF part now that I think about it more, although I might be wrong about that. Anyway, so here's the part of the list if you want to look"
      ]
    },
    {
      "cell_type": "code",
      "metadata": {
        "id": "0ou_AMbT5lIb",
        "colab_type": "code",
        "colab": {}
      },
      "source": [
        "counts_df.set_index(\"phrase\", inplace=True)"
      ],
      "execution_count": 0,
      "outputs": []
    },
    {
      "cell_type": "code",
      "metadata": {
        "id": "bjKnUmw4jGb3",
        "colab_type": "code",
        "outputId": "d2790e7c-7afa-4af9-a402-6b231ce2ff92",
        "colab": {
          "base_uri": "https://localhost:8080/",
          "height": 1000
        }
      },
      "source": [
        "counts_df.sort_values(by='TweetCounts', ascending=False)[50:80]"
      ],
      "execution_count": 0,
      "outputs": [
        {
          "output_type": "execute_result",
          "data": {
            "text/html": [
              "<div>\n",
              "<style scoped>\n",
              "    .dataframe tbody tr th:only-of-type {\n",
              "        vertical-align: middle;\n",
              "    }\n",
              "\n",
              "    .dataframe tbody tr th {\n",
              "        vertical-align: top;\n",
              "    }\n",
              "\n",
              "    .dataframe thead th {\n",
              "        text-align: right;\n",
              "    }\n",
              "</style>\n",
              "<table border=\"1\" class=\"dataframe\">\n",
              "  <thead>\n",
              "    <tr style=\"text-align: right;\">\n",
              "      <th></th>\n",
              "      <th>TweetCounts</th>\n",
              "    </tr>\n",
              "    <tr>\n",
              "      <th>phrase</th>\n",
              "      <th></th>\n",
              "    </tr>\n",
              "  </thead>\n",
              "  <tbody>\n",
              "    <tr>\n",
              "      <th>win</th>\n",
              "      <td>445</td>\n",
              "    </tr>\n",
              "    <tr>\n",
              "      <th>crime</th>\n",
              "      <td>421</td>\n",
              "    </tr>\n",
              "    <tr>\n",
              "      <th>becaus</th>\n",
              "      <td>421</td>\n",
              "    </tr>\n",
              "    <tr>\n",
              "      <th>know</th>\n",
              "      <td>417</td>\n",
              "    </tr>\n",
              "    <tr>\n",
              "      <th>rt realdonaldtrump</th>\n",
              "      <td>406</td>\n",
              "    </tr>\n",
              "    <tr>\n",
              "      <th>hous</th>\n",
              "      <td>394</td>\n",
              "    </tr>\n",
              "    <tr>\n",
              "      <th>tax</th>\n",
              "      <td>389</td>\n",
              "    </tr>\n",
              "    <tr>\n",
              "      <th>trade</th>\n",
              "      <td>386</td>\n",
              "    </tr>\n",
              "    <tr>\n",
              "      <th>noth</th>\n",
              "      <td>381</td>\n",
              "    </tr>\n",
              "    <tr>\n",
              "      <th>wall</th>\n",
              "      <td>380</td>\n",
              "    </tr>\n",
              "    <tr>\n",
              "      <th>need</th>\n",
              "      <td>377</td>\n",
              "    </tr>\n",
              "    <tr>\n",
              "      <th>way</th>\n",
              "      <td>374</td>\n",
              "    </tr>\n",
              "    <tr>\n",
              "      <th>strong</th>\n",
              "      <td>374</td>\n",
              "    </tr>\n",
              "    <tr>\n",
              "      <th>whi</th>\n",
              "      <td>369</td>\n",
              "    </tr>\n",
              "    <tr>\n",
              "      <th>said</th>\n",
              "      <td>367</td>\n",
              "    </tr>\n",
              "    <tr>\n",
              "      <th>fbi</th>\n",
              "      <td>365</td>\n",
              "    </tr>\n",
              "    <tr>\n",
              "      <th>did</th>\n",
              "      <td>365</td>\n",
              "    </tr>\n",
              "    <tr>\n",
              "      <th>senat</th>\n",
              "      <td>365</td>\n",
              "    </tr>\n",
              "    <tr>\n",
              "      <th>say</th>\n",
              "      <td>360</td>\n",
              "    </tr>\n",
              "    <tr>\n",
              "      <th>meet</th>\n",
              "      <td>360</td>\n",
              "    </tr>\n",
              "    <tr>\n",
              "      <th>russia</th>\n",
              "      <td>355</td>\n",
              "    </tr>\n",
              "    <tr>\n",
              "      <th>thing</th>\n",
              "      <td>349</td>\n",
              "    </tr>\n",
              "    <tr>\n",
              "      <th>love</th>\n",
              "      <td>347</td>\n",
              "    </tr>\n",
              "    <tr>\n",
              "      <th>hunt</th>\n",
              "      <td>341</td>\n",
              "    </tr>\n",
              "    <tr>\n",
              "      <th>help</th>\n",
              "      <td>338</td>\n",
              "    </tr>\n",
              "    <tr>\n",
              "      <th>witch</th>\n",
              "      <td>338</td>\n",
              "    </tr>\n",
              "    <tr>\n",
              "      <th>witch hunt</th>\n",
              "      <td>335</td>\n",
              "    </tr>\n",
              "    <tr>\n",
              "      <th>world</th>\n",
              "      <td>331</td>\n",
              "    </tr>\n",
              "    <tr>\n",
              "      <th>honor</th>\n",
              "      <td>324</td>\n",
              "    </tr>\n",
              "    <tr>\n",
              "      <th>obama</th>\n",
              "      <td>323</td>\n",
              "    </tr>\n",
              "  </tbody>\n",
              "</table>\n",
              "</div>"
            ],
            "text/plain": [
              "                    TweetCounts\n",
              "phrase                         \n",
              "win                         445\n",
              "crime                       421\n",
              "becaus                      421\n",
              "know                        417\n",
              "rt realdonaldtrump          406\n",
              "hous                        394\n",
              "tax                         389\n",
              "trade                       386\n",
              "noth                        381\n",
              "wall                        380\n",
              "need                        377\n",
              "way                         374\n",
              "strong                      374\n",
              "whi                         369\n",
              "said                        367\n",
              "fbi                         365\n",
              "did                         365\n",
              "senat                       365\n",
              "say                         360\n",
              "meet                        360\n",
              "russia                      355\n",
              "thing                       349\n",
              "love                        347\n",
              "hunt                        341\n",
              "help                        338\n",
              "witch                       338\n",
              "witch hunt                  335\n",
              "world                       331\n",
              "honor                       324\n",
              "obama                       323"
            ]
          },
          "metadata": {
            "tags": []
          },
          "execution_count": 68
        }
      ]
    },
    {
      "cell_type": "markdown",
      "metadata": {
        "id": "04YmdTvzWXhy",
        "colab_type": "text"
      },
      "source": [
        "## So the problem that we're trying to address here is how to actually get the label for each of the tweets. For broad topics, that's actually kind of hard without using some sort of labeling. So let's see what the labels that we get from the GDELT set look like"
      ]
    },
    {
      "cell_type": "markdown",
      "metadata": {
        "id": "pENNbi8ATo8g",
        "colab_type": "text"
      },
      "source": [
        "## Here's 3 months of GDELT V2 Data for a couple publications I'd aggregated into a python pickle before"
      ]
    },
    {
      "cell_type": "code",
      "metadata": {
        "id": "JPrgdMrGTjWB",
        "colab_type": "code",
        "colab": {}
      },
      "source": [
        "articles = pd.read_pickle(\"Data/GDELT_Select_Publications.pkl\")"
      ],
      "execution_count": 0,
      "outputs": []
    },
    {
      "cell_type": "code",
      "metadata": {
        "id": "e3OH86khXpps",
        "colab_type": "code",
        "outputId": "4c1f4a47-166f-4ef7-e1c5-26e8a818fe9f",
        "colab": {
          "base_uri": "https://localhost:8080/",
          "height": 465
        }
      },
      "source": [
        "articles.head()"
      ],
      "execution_count": 0,
      "outputs": [
        {
          "output_type": "execute_result",
          "data": {
            "text/html": [
              "<div>\n",
              "<style scoped>\n",
              "    .dataframe tbody tr th:only-of-type {\n",
              "        vertical-align: middle;\n",
              "    }\n",
              "\n",
              "    .dataframe tbody tr th {\n",
              "        vertical-align: top;\n",
              "    }\n",
              "\n",
              "    .dataframe thead th {\n",
              "        text-align: right;\n",
              "    }\n",
              "</style>\n",
              "<table border=\"1\" class=\"dataframe\">\n",
              "  <thead>\n",
              "    <tr style=\"text-align: right;\">\n",
              "      <th></th>\n",
              "      <th>GKGRECORDID</th>\n",
              "      <th>DATE</th>\n",
              "      <th>SourceCollectionIdentifier</th>\n",
              "      <th>SourceCommonName</th>\n",
              "      <th>DocumentIdentifier</th>\n",
              "      <th>Counts</th>\n",
              "      <th>V2Counts</th>\n",
              "      <th>Themes</th>\n",
              "      <th>V2Themes</th>\n",
              "      <th>Locations</th>\n",
              "      <th>V2Locations</th>\n",
              "      <th>Persons</th>\n",
              "      <th>V2Persons</th>\n",
              "      <th>Organizations</th>\n",
              "      <th>V2Organizations</th>\n",
              "      <th>V2Tone</th>\n",
              "      <th>Dates</th>\n",
              "      <th>GCAM</th>\n",
              "      <th>SharingImage</th>\n",
              "      <th>RelatedImages</th>\n",
              "      <th>SocialImageEmbeds</th>\n",
              "      <th>SocialVideoEmbeds</th>\n",
              "      <th>Quotations</th>\n",
              "      <th>AllNames</th>\n",
              "      <th>Amounts</th>\n",
              "      <th>TranslationInfo</th>\n",
              "      <th>Extras</th>\n",
              "    </tr>\n",
              "  </thead>\n",
              "  <tbody>\n",
              "    <tr>\n",
              "      <th>4</th>\n",
              "      <td>20190905000000-4</td>\n",
              "      <td>2.019090e+13</td>\n",
              "      <td>1.0</td>\n",
              "      <td>reuters.com</td>\n",
              "      <td>https://in.reuters.com/article/uber-brazil/bra...</td>\n",
              "      <td>NaN</td>\n",
              "      <td>NaN</td>\n",
              "      <td>TAX_FNCACT;TAX_FNCACT_DRIVERS;TAX_FNCACT_EMPLO...</td>\n",
              "      <td>IDEOLOGY,2527;ECON_STOCKMARKET,331;WB_696_PUBL...</td>\n",
              "      <td>4#Sao Paulo, SãPaulo, Brazil#BR#BR27#-23.5333#...</td>\n",
              "      <td>4#Minas Gerais, Acre, Brazil#BR#BR01#18585#-8....</td>\n",
              "      <td>richard chang;ricardo brito;anthony boadle</td>\n",
              "      <td>Richard Chang,2472;Ricardo Brito,2410;Anthony ...</td>\n",
              "      <td>york stock exchange;thomson reuters trust prin...</td>\n",
              "      <td>York Stock Exchange,340;Thomson Reuters Trust ...</td>\n",
              "      <td>0.961538461538461,2.16346153846154,1.201923076...</td>\n",
              "      <td>NaN</td>\n",
              "      <td>wc:391,c1.2:2,c12.1:24,c12.10:21,c12.12:4,c12....</td>\n",
              "      <td>https://s3.reutersmedia.net/resources/r/?m=02&amp;...</td>\n",
              "      <td>NaN</td>\n",
              "      <td>NaN</td>\n",
              "      <td>https://youtube.com/user/ReutersVideo;https://...</td>\n",
              "      <td>NaN</td>\n",
              "      <td>Uber Technologies Inc,281;New York Stock Excha...</td>\n",
              "      <td>250,cases,1773;</td>\n",
              "      <td>NaN</td>\n",
              "      <td>&lt;PAGE_LINKS&gt;http://thomsonreuters.com/en/about...</td>\n",
              "    </tr>\n",
              "    <tr>\n",
              "      <th>34</th>\n",
              "      <td>20190905000000-34</td>\n",
              "      <td>2.019090e+13</td>\n",
              "      <td>1.0</td>\n",
              "      <td>reuters.com</td>\n",
              "      <td>https://in.reuters.com/article/usa-election-cl...</td>\n",
              "      <td>NaN</td>\n",
              "      <td>NaN</td>\n",
              "      <td>LEADER;TAX_FNCACT;TAX_FNCACT_PRESIDENT;USPEC_P...</td>\n",
              "      <td>IDEOLOGY,4424;BAN,3286;TAX_FNCACT_CANDIDATES,2...</td>\n",
              "      <td>3#South Bend, Indiana, United States#US#USIN#4...</td>\n",
              "      <td>2#Pennsylvania, United States#US#USPA##40.5773...</td>\n",
              "      <td>donald trump;cory booker;barack obama;elizabet...</td>\n",
              "      <td>Donald Trump,63;Cory Booker,3956;Barack Obama,...</td>\n",
              "      <td>thomson reuters trust principles;georgetown un...</td>\n",
              "      <td>Thomson Reuters Trust Principles,4424;Georgeto...</td>\n",
              "      <td>-2.4113475177305,2.26950354609929,4.6808510638...</td>\n",
              "      <td>NaN</td>\n",
              "      <td>wc:641,c1.2:1,c1.3:23,c12.1:31,c12.10:62,c12.1...</td>\n",
              "      <td>https://s2.reutersmedia.net/resources/r/?m=02&amp;...</td>\n",
              "      <td>NaN</td>\n",
              "      <td>NaN</td>\n",
              "      <td>https://youtube.com/user/ReutersVideo;https://...</td>\n",
              "      <td>NaN</td>\n",
              "      <td>Donald Trump,47;White House,134;Elizabeth Warr...</td>\n",
              "      <td>10,Democratic presidential contenders,668;7000...</td>\n",
              "      <td>NaN</td>\n",
              "      <td>&lt;PAGE_LINKS&gt;http://thomsonreuters.com/en/about...</td>\n",
              "    </tr>\n",
              "    <tr>\n",
              "      <th>87</th>\n",
              "      <td>20190905000000-87</td>\n",
              "      <td>2.019090e+13</td>\n",
              "      <td>1.0</td>\n",
              "      <td>washingtonpost.com</td>\n",
              "      <td>https://www.washingtonpost.com/national/couple...</td>\n",
              "      <td>NaN</td>\n",
              "      <td>NaN</td>\n",
              "      <td>TRIAL;TAX_WORLDMAMMALS;TAX_WORLDMAMMALS_CATS;T...</td>\n",
              "      <td>GENERAL_HEALTH,586;MEDICAL,586;FOOD_SECURITY,6...</td>\n",
              "      <td>NaN</td>\n",
              "      <td>NaN</td>\n",
              "      <td>jennifer klein</td>\n",
              "      <td>Jennifer Klein,231</td>\n",
              "      <td>associated press</td>\n",
              "      <td>Associated Press,19;Associated Press,841</td>\n",
              "      <td>-7.05128205128205,0.641025641025641,7.69230769...</td>\n",
              "      <td>NaN</td>\n",
              "      <td>wc:136,c12.1:8,c12.10:10,c12.12:4,c12.13:1,c12...</td>\n",
              "      <td>NaN</td>\n",
              "      <td>NaN</td>\n",
              "      <td>NaN</td>\n",
              "      <td>NaN</td>\n",
              "      <td>NaN</td>\n",
              "      <td>Jennifer Klein,227;Oakland County,425;West Blo...</td>\n",
              "      <td>178,cats were removed earlier,105;4,dollars ,2...</td>\n",
              "      <td>NaN</td>\n",
              "      <td>&lt;PAGE_ALTURL_AMP&gt;https://beta.washingtonpost.c...</td>\n",
              "    </tr>\n",
              "    <tr>\n",
              "      <th>90</th>\n",
              "      <td>20190905000000-90</td>\n",
              "      <td>2.019090e+13</td>\n",
              "      <td>1.0</td>\n",
              "      <td>washingtonpost.com</td>\n",
              "      <td>https://www.washingtonpost.com/national/some-m...</td>\n",
              "      <td>NaN</td>\n",
              "      <td>NaN</td>\n",
              "      <td>TAX_FNCACT;TAX_FNCACT_MERCHANT;TAX_FNCACT_JUDG...</td>\n",
              "      <td>GENERAL_GOVERNMENT,120;GENERAL_GOVERNMENT,337;...</td>\n",
              "      <td>3#Houston, Texas, United States#US#USTX#29.763...</td>\n",
              "      <td>2#Texas, United States#US#USTX##31.106#-97.647...</td>\n",
              "      <td>dana sabraw</td>\n",
              "      <td>Dana Sabraw,305</td>\n",
              "      <td>associated press</td>\n",
              "      <td>Associated Press,939</td>\n",
              "      <td>-1.21951219512195,1.82926829268293,3.048780487...</td>\n",
              "      <td>NaN</td>\n",
              "      <td>wc:151,c12.1:10,c12.10:15,c12.12:2,c12.13:3,c1...</td>\n",
              "      <td>NaN</td>\n",
              "      <td>NaN</td>\n",
              "      <td>NaN</td>\n",
              "      <td>NaN</td>\n",
              "      <td>NaN</td>\n",
              "      <td>Nomaan Merchant,19;Judge Dana Sabraw,292;David...</td>\n",
              "      <td>11,parents who were deported,108;400,parents w...</td>\n",
              "      <td>NaN</td>\n",
              "      <td>&lt;PAGE_ALTURL_AMP&gt;https://beta.washingtonpost.c...</td>\n",
              "    </tr>\n",
              "    <tr>\n",
              "      <th>101</th>\n",
              "      <td>20190905000000-101</td>\n",
              "      <td>2.019090e+13</td>\n",
              "      <td>1.0</td>\n",
              "      <td>washingtonpost.com</td>\n",
              "      <td>https://www.washingtonpost.com/local/dc-politi...</td>\n",
              "      <td>NaN</td>\n",
              "      <td>NaN</td>\n",
              "      <td>CRISISLEX_CRISISLEXREC;UNGP_CRIME_VIOLENCE;USP...</td>\n",
              "      <td>KILL,1531;IMMIGRATION,1643;TAX_FNCACT_IMMIGRAN...</td>\n",
              "      <td>3#Brightwood Park, District Of Columbia, Unite...</td>\n",
              "      <td>3#Brightwood Park, District Of Columbia, Unite...</td>\n",
              "      <td>chidi anyanwutaku;rashad m young;james g walke...</td>\n",
              "      <td>Chidi Anyanwutaku,4654;Fitsum Kebede,1576;Erne...</td>\n",
              "      <td>emergency medical services department;washingt...</td>\n",
              "      <td>Emergency Medical Services Department,461;Regu...</td>\n",
              "      <td>-3.51758793969849,0.879396984924623,4.39698492...</td>\n",
              "      <td>NaN</td>\n",
              "      <td>wc:748,c12.1:29,c12.10:56,c12.12:24,c12.13:17,...</td>\n",
              "      <td>https://www.washingtonpost.com/resizer/8_Fu4i5...</td>\n",
              "      <td>NaN</td>\n",
              "      <td>NaN</td>\n",
              "      <td>NaN</td>\n",
              "      <td>1547|25||contributed to the deaths</td>\n",
              "      <td>Brightwood Park,233;Emergency Medical Services...</td>\n",
              "      <td>2,at the fire department,1826;2,at DCRA,1851;7...</td>\n",
              "      <td>NaN</td>\n",
              "      <td>&lt;PAGE_LINKS&gt;https://www.washingtonpost.com/loc...</td>\n",
              "    </tr>\n",
              "  </tbody>\n",
              "</table>\n",
              "</div>"
            ],
            "text/plain": [
              "            GKGRECORDID  ...                                             Extras\n",
              "4      20190905000000-4  ...  <PAGE_LINKS>http://thomsonreuters.com/en/about...\n",
              "34    20190905000000-34  ...  <PAGE_LINKS>http://thomsonreuters.com/en/about...\n",
              "87    20190905000000-87  ...  <PAGE_ALTURL_AMP>https://beta.washingtonpost.c...\n",
              "90    20190905000000-90  ...  <PAGE_ALTURL_AMP>https://beta.washingtonpost.c...\n",
              "101  20190905000000-101  ...  <PAGE_LINKS>https://www.washingtonpost.com/loc...\n",
              "\n",
              "[5 rows x 27 columns]"
            ]
          },
          "metadata": {
            "tags": []
          },
          "execution_count": 6
        }
      ]
    },
    {
      "cell_type": "markdown",
      "metadata": {
        "id": "O-T4eX-etmIs",
        "colab_type": "text"
      },
      "source": [
        "## So these are the publishers in this set, I think it's not what I'll end up with but this is preliminary"
      ]
    },
    {
      "cell_type": "code",
      "metadata": {
        "id": "8jK_NNgyXq2M",
        "colab_type": "code",
        "outputId": "819ffd04-c7ca-48dd-cda3-38afa4e27bfe",
        "colab": {
          "base_uri": "https://localhost:8080/",
          "height": 69
        }
      },
      "source": [
        "articles.SourceCommonName.unique()"
      ],
      "execution_count": 0,
      "outputs": [
        {
          "output_type": "execute_result",
          "data": {
            "text/plain": [
              "array(['reuters.com', 'washingtonpost.com', 'cnn.com', 'nytimes.com',\n",
              "       'breitbart.com', 'cbsnews.com', 'foxnews.com', 'thehill.com',\n",
              "       'msnbc.com', 'politico.com', 'nbcnews.com'], dtype=object)"
            ]
          },
          "metadata": {
            "tags": []
          },
          "execution_count": 7
        }
      ]
    },
    {
      "cell_type": "code",
      "metadata": {
        "id": "dubu68Met6cO",
        "colab_type": "code",
        "outputId": "4bc889cf-f5cb-45cd-d737-4112c12ef5e5",
        "colab": {
          "base_uri": "https://localhost:8080/",
          "height": 34
        }
      },
      "source": [
        "len(articles)"
      ],
      "execution_count": 0,
      "outputs": [
        {
          "output_type": "execute_result",
          "data": {
            "text/plain": [
              "138585"
            ]
          },
          "metadata": {
            "tags": []
          },
          "execution_count": 8
        }
      ]
    },
    {
      "cell_type": "code",
      "metadata": {
        "id": "1Y44nEXwt-oZ",
        "colab_type": "code",
        "outputId": "c0ab1128-ea68-4b7f-ebe6-a1730c6774a5",
        "colab": {
          "base_uri": "https://localhost:8080/",
          "height": 34
        }
      },
      "source": [
        "#oh, right, need to convert date to actual dates, just to get sense of what dates are covered here\n",
        "articles.DATE = articles.DATE.apply(lambda x: str(int(x)))\n",
        "articles.DATE = pd.to_datetime(articles.DATE)\n",
        "articles.DATE.min(), articles.DATE.max()"
      ],
      "execution_count": 0,
      "outputs": [
        {
          "output_type": "execute_result",
          "data": {
            "text/plain": [
              "(Timestamp('2019-09-05 00:00:00'), Timestamp('2019-12-08 23:45:00'))"
            ]
          },
          "metadata": {
            "tags": []
          },
          "execution_count": 9
        }
      ]
    },
    {
      "cell_type": "code",
      "metadata": {
        "id": "rETzpsRxzvNe",
        "colab_type": "code",
        "colab": {}
      },
      "source": [
        "articles.fillna(\"\",inplace=True)"
      ],
      "execution_count": 0,
      "outputs": []
    },
    {
      "cell_type": "code",
      "metadata": {
        "id": "LRtE6sC7tzP9",
        "colab_type": "code",
        "colab": {}
      },
      "source": [
        "#So I can pull all of the persons and orgs and see what overlaps with what's in the GDELT labels"
      ],
      "execution_count": 0,
      "outputs": []
    },
    {
      "cell_type": "code",
      "metadata": {
        "id": "K4r-ZH3O1Xn2",
        "colab_type": "code",
        "colab": {}
      },
      "source": [
        "def strip_people(gdelt_list):\n",
        "  rslt = []\n",
        "  for x in gdelt_list.lower().split(\";\"):\n",
        "    rslt.append(x.split(\",\")[0])\n",
        "  return \";\".join(rslt)"
      ],
      "execution_count": 0,
      "outputs": []
    },
    {
      "cell_type": "code",
      "metadata": {
        "id": "GT-IJn9Q1NfP",
        "colab_type": "code",
        "colab": {}
      },
      "source": [
        "articles[\"persons_stripped\"] = articles.V2Persons.map(lambda x: strip_people(x))"
      ],
      "execution_count": 0,
      "outputs": []
    },
    {
      "cell_type": "code",
      "metadata": {
        "id": "UVpjVOlW1v0P",
        "colab_type": "code",
        "outputId": "143cd154-29f8-4eff-c4ab-c5a61dfc73f5",
        "colab": {
          "base_uri": "https://localhost:8080/",
          "height": 465
        }
      },
      "source": [
        "articles.head()"
      ],
      "execution_count": 0,
      "outputs": [
        {
          "output_type": "execute_result",
          "data": {
            "text/html": [
              "<div>\n",
              "<style scoped>\n",
              "    .dataframe tbody tr th:only-of-type {\n",
              "        vertical-align: middle;\n",
              "    }\n",
              "\n",
              "    .dataframe tbody tr th {\n",
              "        vertical-align: top;\n",
              "    }\n",
              "\n",
              "    .dataframe thead th {\n",
              "        text-align: right;\n",
              "    }\n",
              "</style>\n",
              "<table border=\"1\" class=\"dataframe\">\n",
              "  <thead>\n",
              "    <tr style=\"text-align: right;\">\n",
              "      <th></th>\n",
              "      <th>GKGRECORDID</th>\n",
              "      <th>DATE</th>\n",
              "      <th>SourceCollectionIdentifier</th>\n",
              "      <th>SourceCommonName</th>\n",
              "      <th>DocumentIdentifier</th>\n",
              "      <th>Counts</th>\n",
              "      <th>V2Counts</th>\n",
              "      <th>Themes</th>\n",
              "      <th>V2Themes</th>\n",
              "      <th>Locations</th>\n",
              "      <th>V2Locations</th>\n",
              "      <th>Persons</th>\n",
              "      <th>V2Persons</th>\n",
              "      <th>Organizations</th>\n",
              "      <th>V2Organizations</th>\n",
              "      <th>V2Tone</th>\n",
              "      <th>Dates</th>\n",
              "      <th>GCAM</th>\n",
              "      <th>SharingImage</th>\n",
              "      <th>RelatedImages</th>\n",
              "      <th>SocialImageEmbeds</th>\n",
              "      <th>SocialVideoEmbeds</th>\n",
              "      <th>Quotations</th>\n",
              "      <th>AllNames</th>\n",
              "      <th>Amounts</th>\n",
              "      <th>TranslationInfo</th>\n",
              "      <th>Extras</th>\n",
              "      <th>persons_stripped</th>\n",
              "    </tr>\n",
              "  </thead>\n",
              "  <tbody>\n",
              "    <tr>\n",
              "      <th>4</th>\n",
              "      <td>20190905000000-4</td>\n",
              "      <td>2019-09-05</td>\n",
              "      <td>1.0</td>\n",
              "      <td>reuters.com</td>\n",
              "      <td>https://in.reuters.com/article/uber-brazil/bra...</td>\n",
              "      <td></td>\n",
              "      <td></td>\n",
              "      <td>TAX_FNCACT;TAX_FNCACT_DRIVERS;TAX_FNCACT_EMPLO...</td>\n",
              "      <td>IDEOLOGY,2527;ECON_STOCKMARKET,331;WB_696_PUBL...</td>\n",
              "      <td>4#Sao Paulo, SãPaulo, Brazil#BR#BR27#-23.5333#...</td>\n",
              "      <td>4#Minas Gerais, Acre, Brazil#BR#BR01#18585#-8....</td>\n",
              "      <td>richard chang;ricardo brito;anthony boadle</td>\n",
              "      <td>Richard Chang,2472;Ricardo Brito,2410;Anthony ...</td>\n",
              "      <td>york stock exchange;thomson reuters trust prin...</td>\n",
              "      <td>York Stock Exchange,340;Thomson Reuters Trust ...</td>\n",
              "      <td>0.961538461538461,2.16346153846154,1.201923076...</td>\n",
              "      <td></td>\n",
              "      <td>wc:391,c1.2:2,c12.1:24,c12.10:21,c12.12:4,c12....</td>\n",
              "      <td>https://s3.reutersmedia.net/resources/r/?m=02&amp;...</td>\n",
              "      <td></td>\n",
              "      <td></td>\n",
              "      <td>https://youtube.com/user/ReutersVideo;https://...</td>\n",
              "      <td></td>\n",
              "      <td>Uber Technologies Inc,281;New York Stock Excha...</td>\n",
              "      <td>250,cases,1773;</td>\n",
              "      <td></td>\n",
              "      <td>&lt;PAGE_LINKS&gt;http://thomsonreuters.com/en/about...</td>\n",
              "      <td>richard chang;ricardo brito;anthony boadle</td>\n",
              "    </tr>\n",
              "    <tr>\n",
              "      <th>34</th>\n",
              "      <td>20190905000000-34</td>\n",
              "      <td>2019-09-05</td>\n",
              "      <td>1.0</td>\n",
              "      <td>reuters.com</td>\n",
              "      <td>https://in.reuters.com/article/usa-election-cl...</td>\n",
              "      <td></td>\n",
              "      <td></td>\n",
              "      <td>LEADER;TAX_FNCACT;TAX_FNCACT_PRESIDENT;USPEC_P...</td>\n",
              "      <td>IDEOLOGY,4424;BAN,3286;TAX_FNCACT_CANDIDATES,2...</td>\n",
              "      <td>3#South Bend, Indiana, United States#US#USIN#4...</td>\n",
              "      <td>2#Pennsylvania, United States#US#USPA##40.5773...</td>\n",
              "      <td>donald trump;cory booker;barack obama;elizabet...</td>\n",
              "      <td>Donald Trump,63;Cory Booker,3956;Barack Obama,...</td>\n",
              "      <td>thomson reuters trust principles;georgetown un...</td>\n",
              "      <td>Thomson Reuters Trust Principles,4424;Georgeto...</td>\n",
              "      <td>-2.4113475177305,2.26950354609929,4.6808510638...</td>\n",
              "      <td></td>\n",
              "      <td>wc:641,c1.2:1,c1.3:23,c12.1:31,c12.10:62,c12.1...</td>\n",
              "      <td>https://s2.reutersmedia.net/resources/r/?m=02&amp;...</td>\n",
              "      <td></td>\n",
              "      <td></td>\n",
              "      <td>https://youtube.com/user/ReutersVideo;https://...</td>\n",
              "      <td></td>\n",
              "      <td>Donald Trump,47;White House,134;Elizabeth Warr...</td>\n",
              "      <td>10,Democratic presidential contenders,668;7000...</td>\n",
              "      <td></td>\n",
              "      <td>&lt;PAGE_LINKS&gt;http://thomsonreuters.com/en/about...</td>\n",
              "      <td>donald trump;cory booker;barack obama;elizabet...</td>\n",
              "    </tr>\n",
              "    <tr>\n",
              "      <th>87</th>\n",
              "      <td>20190905000000-87</td>\n",
              "      <td>2019-09-05</td>\n",
              "      <td>1.0</td>\n",
              "      <td>washingtonpost.com</td>\n",
              "      <td>https://www.washingtonpost.com/national/couple...</td>\n",
              "      <td></td>\n",
              "      <td></td>\n",
              "      <td>TRIAL;TAX_WORLDMAMMALS;TAX_WORLDMAMMALS_CATS;T...</td>\n",
              "      <td>GENERAL_HEALTH,586;MEDICAL,586;FOOD_SECURITY,6...</td>\n",
              "      <td></td>\n",
              "      <td></td>\n",
              "      <td>jennifer klein</td>\n",
              "      <td>Jennifer Klein,231</td>\n",
              "      <td>associated press</td>\n",
              "      <td>Associated Press,19;Associated Press,841</td>\n",
              "      <td>-7.05128205128205,0.641025641025641,7.69230769...</td>\n",
              "      <td></td>\n",
              "      <td>wc:136,c12.1:8,c12.10:10,c12.12:4,c12.13:1,c12...</td>\n",
              "      <td></td>\n",
              "      <td></td>\n",
              "      <td></td>\n",
              "      <td></td>\n",
              "      <td></td>\n",
              "      <td>Jennifer Klein,227;Oakland County,425;West Blo...</td>\n",
              "      <td>178,cats were removed earlier,105;4,dollars ,2...</td>\n",
              "      <td></td>\n",
              "      <td>&lt;PAGE_ALTURL_AMP&gt;https://beta.washingtonpost.c...</td>\n",
              "      <td>jennifer klein</td>\n",
              "    </tr>\n",
              "    <tr>\n",
              "      <th>90</th>\n",
              "      <td>20190905000000-90</td>\n",
              "      <td>2019-09-05</td>\n",
              "      <td>1.0</td>\n",
              "      <td>washingtonpost.com</td>\n",
              "      <td>https://www.washingtonpost.com/national/some-m...</td>\n",
              "      <td></td>\n",
              "      <td></td>\n",
              "      <td>TAX_FNCACT;TAX_FNCACT_MERCHANT;TAX_FNCACT_JUDG...</td>\n",
              "      <td>GENERAL_GOVERNMENT,120;GENERAL_GOVERNMENT,337;...</td>\n",
              "      <td>3#Houston, Texas, United States#US#USTX#29.763...</td>\n",
              "      <td>2#Texas, United States#US#USTX##31.106#-97.647...</td>\n",
              "      <td>dana sabraw</td>\n",
              "      <td>Dana Sabraw,305</td>\n",
              "      <td>associated press</td>\n",
              "      <td>Associated Press,939</td>\n",
              "      <td>-1.21951219512195,1.82926829268293,3.048780487...</td>\n",
              "      <td></td>\n",
              "      <td>wc:151,c12.1:10,c12.10:15,c12.12:2,c12.13:3,c1...</td>\n",
              "      <td></td>\n",
              "      <td></td>\n",
              "      <td></td>\n",
              "      <td></td>\n",
              "      <td></td>\n",
              "      <td>Nomaan Merchant,19;Judge Dana Sabraw,292;David...</td>\n",
              "      <td>11,parents who were deported,108;400,parents w...</td>\n",
              "      <td></td>\n",
              "      <td>&lt;PAGE_ALTURL_AMP&gt;https://beta.washingtonpost.c...</td>\n",
              "      <td>dana sabraw</td>\n",
              "    </tr>\n",
              "    <tr>\n",
              "      <th>101</th>\n",
              "      <td>20190905000000-101</td>\n",
              "      <td>2019-09-05</td>\n",
              "      <td>1.0</td>\n",
              "      <td>washingtonpost.com</td>\n",
              "      <td>https://www.washingtonpost.com/local/dc-politi...</td>\n",
              "      <td></td>\n",
              "      <td></td>\n",
              "      <td>CRISISLEX_CRISISLEXREC;UNGP_CRIME_VIOLENCE;USP...</td>\n",
              "      <td>KILL,1531;IMMIGRATION,1643;TAX_FNCACT_IMMIGRAN...</td>\n",
              "      <td>3#Brightwood Park, District Of Columbia, Unite...</td>\n",
              "      <td>3#Brightwood Park, District Of Columbia, Unite...</td>\n",
              "      <td>chidi anyanwutaku;rashad m young;james g walke...</td>\n",
              "      <td>Chidi Anyanwutaku,4654;Fitsum Kebede,1576;Erne...</td>\n",
              "      <td>emergency medical services department;washingt...</td>\n",
              "      <td>Emergency Medical Services Department,461;Regu...</td>\n",
              "      <td>-3.51758793969849,0.879396984924623,4.39698492...</td>\n",
              "      <td></td>\n",
              "      <td>wc:748,c12.1:29,c12.10:56,c12.12:24,c12.13:17,...</td>\n",
              "      <td>https://www.washingtonpost.com/resizer/8_Fu4i5...</td>\n",
              "      <td></td>\n",
              "      <td></td>\n",
              "      <td></td>\n",
              "      <td>1547|25||contributed to the deaths</td>\n",
              "      <td>Brightwood Park,233;Emergency Medical Services...</td>\n",
              "      <td>2,at the fire department,1826;2,at DCRA,1851;7...</td>\n",
              "      <td></td>\n",
              "      <td>&lt;PAGE_LINKS&gt;https://www.washingtonpost.com/loc...</td>\n",
              "      <td>chidi anyanwutaku;fitsum kebede;ernest chrappah</td>\n",
              "    </tr>\n",
              "  </tbody>\n",
              "</table>\n",
              "</div>"
            ],
            "text/plain": [
              "            GKGRECORDID  ...                                   persons_stripped\n",
              "4      20190905000000-4  ...         richard chang;ricardo brito;anthony boadle\n",
              "34    20190905000000-34  ...  donald trump;cory booker;barack obama;elizabet...\n",
              "87    20190905000000-87  ...                                     jennifer klein\n",
              "90    20190905000000-90  ...                                        dana sabraw\n",
              "101  20190905000000-101  ...    chidi anyanwutaku;fitsum kebede;ernest chrappah\n",
              "\n",
              "[5 rows x 28 columns]"
            ]
          },
          "metadata": {
            "tags": []
          },
          "execution_count": 14
        }
      ]
    },
    {
      "cell_type": "code",
      "metadata": {
        "id": "oofjue51tt4w",
        "colab_type": "code",
        "colab": {}
      },
      "source": [
        "peopleCount = Counter(\";\".join(articles.persons_stripped).split(\";\"))\n",
        "people_dict = dict(zip(peopleCount.keys(), sourceCount.values()))\n"
      ],
      "execution_count": 0,
      "outputs": []
    },
    {
      "cell_type": "code",
      "metadata": {
        "id": "8Xemxu_Aztdo",
        "colab_type": "code",
        "colab": {}
      },
      "source": [
        "tmp = pd.DataFrame([people_dict])"
      ],
      "execution_count": 0,
      "outputs": []
    },
    {
      "cell_type": "code",
      "metadata": {
        "id": "2T9kSYbBz01v",
        "colab_type": "code",
        "colab": {}
      },
      "source": [
        "tmp = tmp.T"
      ],
      "execution_count": 0,
      "outputs": []
    },
    {
      "cell_type": "code",
      "metadata": {
        "id": "aMCblRXB0Hix",
        "colab_type": "code",
        "colab": {}
      },
      "source": [
        "tmp.columns=[\"ArticleCounts\"]"
      ],
      "execution_count": 0,
      "outputs": []
    },
    {
      "cell_type": "code",
      "metadata": {
        "id": "7Fl5a8Jm0OkV",
        "colab_type": "code",
        "outputId": "fe189e37-bc67-4315-8e79-47095c8cff2f",
        "colab": {
          "base_uri": "https://localhost:8080/",
          "height": 1000
        }
      },
      "source": [
        "tmp.sort_values(by=\"ArticleCounts\", ascending=False)[:50]"
      ],
      "execution_count": 0,
      "outputs": [
        {
          "output_type": "execute_result",
          "data": {
            "text/html": [
              "<div>\n",
              "<style scoped>\n",
              "    .dataframe tbody tr th:only-of-type {\n",
              "        vertical-align: middle;\n",
              "    }\n",
              "\n",
              "    .dataframe tbody tr th {\n",
              "        vertical-align: top;\n",
              "    }\n",
              "\n",
              "    .dataframe thead th {\n",
              "        text-align: right;\n",
              "    }\n",
              "</style>\n",
              "<table border=\"1\" class=\"dataframe\">\n",
              "  <thead>\n",
              "    <tr style=\"text-align: right;\">\n",
              "      <th></th>\n",
              "      <th>ArticleCounts</th>\n",
              "    </tr>\n",
              "  </thead>\n",
              "  <tbody>\n",
              "    <tr>\n",
              "      <th>donald trump</th>\n",
              "      <td>27440</td>\n",
              "    </tr>\n",
              "    <tr>\n",
              "      <th>joe biden</th>\n",
              "      <td>12458</td>\n",
              "    </tr>\n",
              "    <tr>\n",
              "      <th></th>\n",
              "      <td>9464</td>\n",
              "    </tr>\n",
              "    <tr>\n",
              "      <th>boris johnson</th>\n",
              "      <td>6972</td>\n",
              "    </tr>\n",
              "    <tr>\n",
              "      <th>los angeles</th>\n",
              "      <td>6491</td>\n",
              "    </tr>\n",
              "    <tr>\n",
              "      <th>elizabeth warren</th>\n",
              "      <td>5296</td>\n",
              "    </tr>\n",
              "    <tr>\n",
              "      <th>hunter biden</th>\n",
              "      <td>4674</td>\n",
              "    </tr>\n",
              "    <tr>\n",
              "      <th>nancy pelosi</th>\n",
              "      <td>4110</td>\n",
              "    </tr>\n",
              "    <tr>\n",
              "      <th>bernie sanders</th>\n",
              "      <td>3633</td>\n",
              "    </tr>\n",
              "    <tr>\n",
              "      <th>rudy giuliani</th>\n",
              "      <td>3349</td>\n",
              "    </tr>\n",
              "    <tr>\n",
              "      <th>barack obama</th>\n",
              "      <td>3271</td>\n",
              "    </tr>\n",
              "    <tr>\n",
              "      <th>hillary clinton</th>\n",
              "      <td>3096</td>\n",
              "    </tr>\n",
              "    <tr>\n",
              "      <th>thomas cook</th>\n",
              "      <td>2963</td>\n",
              "    </tr>\n",
              "    <tr>\n",
              "      <th>mike pompeo</th>\n",
              "      <td>2958</td>\n",
              "    </tr>\n",
              "    <tr>\n",
              "      <th>adam schiff</th>\n",
              "      <td>2830</td>\n",
              "    </tr>\n",
              "    <tr>\n",
              "      <th>pete buttigieg</th>\n",
              "      <td>2738</td>\n",
              "    </tr>\n",
              "    <tr>\n",
              "      <th>volodymyr zelensky</th>\n",
              "      <td>2419</td>\n",
              "    </tr>\n",
              "    <tr>\n",
              "      <th>kamala harris</th>\n",
              "      <td>2091</td>\n",
              "    </tr>\n",
              "    <tr>\n",
              "      <th>tayyip erdogan</th>\n",
              "      <td>1949</td>\n",
              "    </tr>\n",
              "    <tr>\n",
              "      <th>volodymyr zelenskiy</th>\n",
              "      <td>1882</td>\n",
              "    </tr>\n",
              "    <tr>\n",
              "      <th>gordon sondland</th>\n",
              "      <td>1649</td>\n",
              "    </tr>\n",
              "    <tr>\n",
              "      <th>vladimir putin</th>\n",
              "      <td>1630</td>\n",
              "    </tr>\n",
              "    <tr>\n",
              "      <th>mike pence</th>\n",
              "      <td>1568</td>\n",
              "    </tr>\n",
              "    <tr>\n",
              "      <th>john bolton</th>\n",
              "      <td>1555</td>\n",
              "    </tr>\n",
              "    <tr>\n",
              "      <th>marie yovanovitch</th>\n",
              "      <td>1499</td>\n",
              "    </tr>\n",
              "    <tr>\n",
              "      <th>jeremy corbyn</th>\n",
              "      <td>1476</td>\n",
              "    </tr>\n",
              "    <tr>\n",
              "      <th>cory booker</th>\n",
              "      <td>1473</td>\n",
              "    </tr>\n",
              "    <tr>\n",
              "      <th>bill clinton</th>\n",
              "      <td>1423</td>\n",
              "    </tr>\n",
              "    <tr>\n",
              "      <th>brendan mcdermid</th>\n",
              "      <td>1411</td>\n",
              "    </tr>\n",
              "    <tr>\n",
              "      <th>chizu nomiyama</th>\n",
              "      <td>1397</td>\n",
              "    </tr>\n",
              "    <tr>\n",
              "      <th>mick mulvaney</th>\n",
              "      <td>1386</td>\n",
              "    </tr>\n",
              "    <tr>\n",
              "      <th>mark potter</th>\n",
              "      <td>1339</td>\n",
              "    </tr>\n",
              "    <tr>\n",
              "      <th>angela merkel</th>\n",
              "      <td>1336</td>\n",
              "    </tr>\n",
              "    <tr>\n",
              "      <th>lindsey graham</th>\n",
              "      <td>1320</td>\n",
              "    </tr>\n",
              "    <tr>\n",
              "      <th>carrie lam</th>\n",
              "      <td>1247</td>\n",
              "    </tr>\n",
              "    <tr>\n",
              "      <th>justin trudeau</th>\n",
              "      <td>1214</td>\n",
              "    </tr>\n",
              "    <tr>\n",
              "      <th>amy klobuchar</th>\n",
              "      <td>1205</td>\n",
              "    </tr>\n",
              "    <tr>\n",
              "      <th>robert mueller</th>\n",
              "      <td>1192</td>\n",
              "    </tr>\n",
              "    <tr>\n",
              "      <th>benjamin netanyahu</th>\n",
              "      <td>1187</td>\n",
              "    </tr>\n",
              "    <tr>\n",
              "      <th>las vegas</th>\n",
              "      <td>1181</td>\n",
              "    </tr>\n",
              "    <tr>\n",
              "      <th>jason neely</th>\n",
              "      <td>1180</td>\n",
              "    </tr>\n",
              "    <tr>\n",
              "      <th>sandra maler</th>\n",
              "      <td>1178</td>\n",
              "    </tr>\n",
              "    <tr>\n",
              "      <th>abu dhabi</th>\n",
              "      <td>1174</td>\n",
              "    </tr>\n",
              "    <tr>\n",
              "      <th>andrew yang</th>\n",
              "      <td>1126</td>\n",
              "    </tr>\n",
              "    <tr>\n",
              "      <th>lisa shumaker</th>\n",
              "      <td>1124</td>\n",
              "    </tr>\n",
              "    <tr>\n",
              "      <th>chris reese</th>\n",
              "      <td>1118</td>\n",
              "    </tr>\n",
              "    <tr>\n",
              "      <th>peter cooney</th>\n",
              "      <td>1098</td>\n",
              "    </tr>\n",
              "    <tr>\n",
              "      <th>tom brown</th>\n",
              "      <td>1061</td>\n",
              "    </tr>\n",
              "    <tr>\n",
              "      <th>jonathan oatis</th>\n",
              "      <td>1050</td>\n",
              "    </tr>\n",
              "    <tr>\n",
              "      <th>alison williams</th>\n",
              "      <td>1042</td>\n",
              "    </tr>\n",
              "  </tbody>\n",
              "</table>\n",
              "</div>"
            ],
            "text/plain": [
              "                     ArticleCounts\n",
              "donald trump                 27440\n",
              "joe biden                    12458\n",
              "                              9464\n",
              "boris johnson                 6972\n",
              "los angeles                   6491\n",
              "elizabeth warren              5296\n",
              "hunter biden                  4674\n",
              "nancy pelosi                  4110\n",
              "bernie sanders                3633\n",
              "rudy giuliani                 3349\n",
              "barack obama                  3271\n",
              "hillary clinton               3096\n",
              "thomas cook                   2963\n",
              "mike pompeo                   2958\n",
              "adam schiff                   2830\n",
              "pete buttigieg                2738\n",
              "volodymyr zelensky            2419\n",
              "kamala harris                 2091\n",
              "tayyip erdogan                1949\n",
              "volodymyr zelenskiy           1882\n",
              "gordon sondland               1649\n",
              "vladimir putin                1630\n",
              "mike pence                    1568\n",
              "john bolton                   1555\n",
              "marie yovanovitch             1499\n",
              "jeremy corbyn                 1476\n",
              "cory booker                   1473\n",
              "bill clinton                  1423\n",
              "brendan mcdermid              1411\n",
              "chizu nomiyama                1397\n",
              "mick mulvaney                 1386\n",
              "mark potter                   1339\n",
              "angela merkel                 1336\n",
              "lindsey graham                1320\n",
              "carrie lam                    1247\n",
              "justin trudeau                1214\n",
              "amy klobuchar                 1205\n",
              "robert mueller                1192\n",
              "benjamin netanyahu            1187\n",
              "las vegas                     1181\n",
              "jason neely                   1180\n",
              "sandra maler                  1178\n",
              "abu dhabi                     1174\n",
              "andrew yang                   1126\n",
              "lisa shumaker                 1124\n",
              "chris reese                   1118\n",
              "peter cooney                  1098\n",
              "tom brown                     1061\n",
              "jonathan oatis                1050\n",
              "alison williams               1042"
            ]
          },
          "metadata": {
            "tags": []
          },
          "execution_count": 74
        }
      ]
    },
    {
      "cell_type": "code",
      "metadata": {
        "id": "TyCsbOai0VEu",
        "colab_type": "code",
        "outputId": "27055110-8f05-4ccf-f9fe-e1d03572ff71",
        "colab": {
          "base_uri": "https://localhost:8080/",
          "height": 34
        }
      },
      "source": [
        "tmp.loc[\"donald trump\", \"ArticleCounts\"]"
      ],
      "execution_count": 0,
      "outputs": [
        {
          "output_type": "execute_result",
          "data": {
            "text/plain": [
              "27440"
            ]
          },
          "metadata": {
            "tags": []
          },
          "execution_count": 75
        }
      ]
    },
    {
      "cell_type": "code",
      "metadata": {
        "id": "-BdZa-zt4HFq",
        "colab_type": "code",
        "outputId": "c78a09c6-8202-4907-c05e-a380d3a72616",
        "colab": {
          "base_uri": "https://localhost:8080/",
          "height": 34
        }
      },
      "source": [
        "print(\"wait, {} percent of articles are labelled Trump?!?!\".format(round(100*tmp.loc[\"donald trump\", \"ArticleCounts\"]/len(articles),3)))"
      ],
      "execution_count": 0,
      "outputs": [
        {
          "output_type": "stream",
          "text": [
            "wait, 19.8 percent of articles are labelled Trump?!?!\n"
          ],
          "name": "stdout"
        }
      ]
    },
    {
      "cell_type": "code",
      "metadata": {
        "id": "nByHSGVz5CoQ",
        "colab_type": "code",
        "outputId": "32debe04-96d2-418e-a4bd-b49666664bd2",
        "colab": {
          "base_uri": "https://localhost:8080/",
          "height": 1000
        }
      },
      "source": [
        "pd.concat([tmp, counts_df], axis=1).dropna().sort_values(by=\"TweetCounts\", ascending=False)[:50]"
      ],
      "execution_count": 0,
      "outputs": [
        {
          "output_type": "stream",
          "text": [
            "/usr/local/lib/python3.6/dist-packages/ipykernel_launcher.py:1: FutureWarning: Sorting because non-concatenation axis is not aligned. A future version\n",
            "of pandas will change to not sort by default.\n",
            "\n",
            "To accept the future behavior, pass 'sort=False'.\n",
            "\n",
            "To retain the current behavior and silence the warning, pass 'sort=True'.\n",
            "\n",
            "  \"\"\"Entry point for launching an IPython kernel.\n"
          ],
          "name": "stderr"
        },
        {
          "output_type": "execute_result",
          "data": {
            "text/html": [
              "<div>\n",
              "<style scoped>\n",
              "    .dataframe tbody tr th:only-of-type {\n",
              "        vertical-align: middle;\n",
              "    }\n",
              "\n",
              "    .dataframe tbody tr th {\n",
              "        vertical-align: top;\n",
              "    }\n",
              "\n",
              "    .dataframe thead th {\n",
              "        text-align: right;\n",
              "    }\n",
              "</style>\n",
              "<table border=\"1\" class=\"dataframe\">\n",
              "  <thead>\n",
              "    <tr style=\"text-align: right;\">\n",
              "      <th></th>\n",
              "      <th>ArticleCounts</th>\n",
              "      <th>TweetCounts</th>\n",
              "    </tr>\n",
              "  </thead>\n",
              "  <tbody>\n",
              "    <tr>\n",
              "      <th>donald trump</th>\n",
              "      <td>27440.0</td>\n",
              "      <td>150.0</td>\n",
              "    </tr>\n",
              "    <tr>\n",
              "      <th>adam schiff</th>\n",
              "      <td>2830.0</td>\n",
              "      <td>123.0</td>\n",
              "    </tr>\n",
              "    <tr>\n",
              "      <th>white house</th>\n",
              "      <td>59.0</td>\n",
              "      <td>83.0</td>\n",
              "    </tr>\n",
              "    <tr>\n",
              "      <th>joe biden</th>\n",
              "      <td>12458.0</td>\n",
              "      <td>69.0</td>\n",
              "    </tr>\n",
              "    <tr>\n",
              "      <th>kim jong</th>\n",
              "      <td>11.0</td>\n",
              "      <td>58.0</td>\n",
              "    </tr>\n",
              "    <tr>\n",
              "      <th>robert mueller</th>\n",
              "      <td>1192.0</td>\n",
              "      <td>43.0</td>\n",
              "    </tr>\n",
              "    <tr>\n",
              "      <th>chuck schumer</th>\n",
              "      <td>258.0</td>\n",
              "      <td>43.0</td>\n",
              "    </tr>\n",
              "    <tr>\n",
              "      <th>hurrican dorian</th>\n",
              "      <td>2.0</td>\n",
              "      <td>35.0</td>\n",
              "    </tr>\n",
              "    <tr>\n",
              "      <th>mark levin</th>\n",
              "      <td>87.0</td>\n",
              "      <td>34.0</td>\n",
              "    </tr>\n",
              "    <tr>\n",
              "      <th>bob mueller</th>\n",
              "      <td>43.0</td>\n",
              "      <td>27.0</td>\n",
              "    </tr>\n",
              "    <tr>\n",
              "      <th>peter strzok</th>\n",
              "      <td>122.0</td>\n",
              "      <td>26.0</td>\n",
              "    </tr>\n",
              "    <tr>\n",
              "      <th>brett kavanaugh</th>\n",
              "      <td>594.0</td>\n",
              "      <td>26.0</td>\n",
              "    </tr>\n",
              "    <tr>\n",
              "      <th>el paso</th>\n",
              "      <td>241.0</td>\n",
              "      <td>25.0</td>\n",
              "    </tr>\n",
              "    <tr>\n",
              "      <th>dan bishop</th>\n",
              "      <td>246.0</td>\n",
              "      <td>23.0</td>\n",
              "    </tr>\n",
              "    <tr>\n",
              "      <th>michael cohen</th>\n",
              "      <td>270.0</td>\n",
              "      <td>23.0</td>\n",
              "    </tr>\n",
              "    <tr>\n",
              "      <th>fox news</th>\n",
              "      <td>4.0</td>\n",
              "      <td>23.0</td>\n",
              "    </tr>\n",
              "    <tr>\n",
              "      <th>bruce ohr</th>\n",
              "      <td>15.0</td>\n",
              "      <td>22.0</td>\n",
              "    </tr>\n",
              "    <tr>\n",
              "      <th>andrew mccabe</th>\n",
              "      <td>149.0</td>\n",
              "      <td>21.0</td>\n",
              "    </tr>\n",
              "    <tr>\n",
              "      <th>john bel</th>\n",
              "      <td>21.0</td>\n",
              "      <td>18.0</td>\n",
              "    </tr>\n",
              "    <tr>\n",
              "      <th>john brennan</th>\n",
              "      <td>97.0</td>\n",
              "      <td>14.0</td>\n",
              "    </tr>\n",
              "    <tr>\n",
              "      <th>mike pompeo</th>\n",
              "      <td>2958.0</td>\n",
              "      <td>14.0</td>\n",
              "    </tr>\n",
              "    <tr>\n",
              "      <th>barack obama</th>\n",
              "      <td>3271.0</td>\n",
              "      <td>14.0</td>\n",
              "    </tr>\n",
              "    <tr>\n",
              "      <th>rick scott</th>\n",
              "      <td>113.0</td>\n",
              "      <td>14.0</td>\n",
              "    </tr>\n",
              "    <tr>\n",
              "      <th>hunter biden</th>\n",
              "      <td>4674.0</td>\n",
              "      <td>14.0</td>\n",
              "    </tr>\n",
              "    <tr>\n",
              "      <th>elizabeth warren</th>\n",
              "      <td>5296.0</td>\n",
              "      <td>14.0</td>\n",
              "    </tr>\n",
              "    <tr>\n",
              "      <th>ronald reagan</th>\n",
              "      <td>433.0</td>\n",
              "      <td>14.0</td>\n",
              "    </tr>\n",
              "    <tr>\n",
              "      <th>las vega</th>\n",
              "      <td>8.0</td>\n",
              "      <td>13.0</td>\n",
              "    </tr>\n",
              "    <tr>\n",
              "      <th>don mcgahn</th>\n",
              "      <td>253.0</td>\n",
              "      <td>12.0</td>\n",
              "    </tr>\n",
              "    <tr>\n",
              "      <th>troy balderson</th>\n",
              "      <td>3.0</td>\n",
              "      <td>11.0</td>\n",
              "    </tr>\n",
              "    <tr>\n",
              "      <th>alan dershowitz</th>\n",
              "      <td>91.0</td>\n",
              "      <td>11.0</td>\n",
              "    </tr>\n",
              "    <tr>\n",
              "      <th>john mccain</th>\n",
              "      <td>267.0</td>\n",
              "      <td>11.0</td>\n",
              "    </tr>\n",
              "    <tr>\n",
              "      <th>brian kemp</th>\n",
              "      <td>123.0</td>\n",
              "      <td>11.0</td>\n",
              "    </tr>\n",
              "    <tr>\n",
              "      <th>john bel edward</th>\n",
              "      <td>7.0</td>\n",
              "      <td>11.0</td>\n",
              "    </tr>\n",
              "    <tr>\n",
              "      <th>bob corker</th>\n",
              "      <td>15.0</td>\n",
              "      <td>10.0</td>\n",
              "    </tr>\n",
              "    <tr>\n",
              "      <th>paul manafort</th>\n",
              "      <td>387.0</td>\n",
              "      <td>10.0</td>\n",
              "    </tr>\n",
              "    <tr>\n",
              "      <th>dan bongino</th>\n",
              "      <td>24.0</td>\n",
              "      <td>10.0</td>\n",
              "    </tr>\n",
              "    <tr>\n",
              "      <th>rush limbaugh</th>\n",
              "      <td>55.0</td>\n",
              "      <td>10.0</td>\n",
              "    </tr>\n",
              "    <tr>\n",
              "      <th>melania trump</th>\n",
              "      <td>416.0</td>\n",
              "      <td>10.0</td>\n",
              "    </tr>\n",
              "    <tr>\n",
              "      <th>steve hilton</th>\n",
              "      <td>32.0</td>\n",
              "      <td>10.0</td>\n",
              "    </tr>\n",
              "    <tr>\n",
              "      <th>ron desanti</th>\n",
              "      <td>14.0</td>\n",
              "      <td>10.0</td>\n",
              "    </tr>\n",
              "    <tr>\n",
              "      <th>ted cruz</th>\n",
              "      <td>603.0</td>\n",
              "      <td>10.0</td>\n",
              "    </tr>\n",
              "    <tr>\n",
              "      <th>andrew cuomo</th>\n",
              "      <td>268.0</td>\n",
              "      <td>10.0</td>\n",
              "    </tr>\n",
              "    <tr>\n",
              "      <th>paul ryan</th>\n",
              "      <td>73.0</td>\n",
              "      <td>9.0</td>\n",
              "    </tr>\n",
              "    <tr>\n",
              "      <th>gregg jarrett</th>\n",
              "      <td>28.0</td>\n",
              "      <td>9.0</td>\n",
              "    </tr>\n",
              "    <tr>\n",
              "      <th>rand paul</th>\n",
              "      <td>312.0</td>\n",
              "      <td>9.0</td>\n",
              "    </tr>\n",
              "    <tr>\n",
              "      <th>mitch mcconnell</th>\n",
              "      <td>547.0</td>\n",
              "      <td>9.0</td>\n",
              "    </tr>\n",
              "    <tr>\n",
              "      <th>mike pence</th>\n",
              "      <td>1568.0</td>\n",
              "      <td>8.0</td>\n",
              "    </tr>\n",
              "    <tr>\n",
              "      <th>jeff flake</th>\n",
              "      <td>42.0</td>\n",
              "      <td>8.0</td>\n",
              "    </tr>\n",
              "    <tr>\n",
              "      <th>john kelly</th>\n",
              "      <td>136.0</td>\n",
              "      <td>8.0</td>\n",
              "    </tr>\n",
              "    <tr>\n",
              "      <th>richard burr</th>\n",
              "      <td>104.0</td>\n",
              "      <td>8.0</td>\n",
              "    </tr>\n",
              "  </tbody>\n",
              "</table>\n",
              "</div>"
            ],
            "text/plain": [
              "                  ArticleCounts  TweetCounts\n",
              "donald trump            27440.0        150.0\n",
              "adam schiff              2830.0        123.0\n",
              "white house                59.0         83.0\n",
              "joe biden               12458.0         69.0\n",
              "kim jong                   11.0         58.0\n",
              "robert mueller           1192.0         43.0\n",
              "chuck schumer             258.0         43.0\n",
              "hurrican dorian             2.0         35.0\n",
              "mark levin                 87.0         34.0\n",
              "bob mueller                43.0         27.0\n",
              "peter strzok              122.0         26.0\n",
              "brett kavanaugh           594.0         26.0\n",
              "el paso                   241.0         25.0\n",
              "dan bishop                246.0         23.0\n",
              "michael cohen             270.0         23.0\n",
              "fox news                    4.0         23.0\n",
              "bruce ohr                  15.0         22.0\n",
              "andrew mccabe             149.0         21.0\n",
              "john bel                   21.0         18.0\n",
              "john brennan               97.0         14.0\n",
              "mike pompeo              2958.0         14.0\n",
              "barack obama             3271.0         14.0\n",
              "rick scott                113.0         14.0\n",
              "hunter biden             4674.0         14.0\n",
              "elizabeth warren         5296.0         14.0\n",
              "ronald reagan             433.0         14.0\n",
              "las vega                    8.0         13.0\n",
              "don mcgahn                253.0         12.0\n",
              "troy balderson              3.0         11.0\n",
              "alan dershowitz            91.0         11.0\n",
              "john mccain               267.0         11.0\n",
              "brian kemp                123.0         11.0\n",
              "john bel edward             7.0         11.0\n",
              "bob corker                 15.0         10.0\n",
              "paul manafort             387.0         10.0\n",
              "dan bongino                24.0         10.0\n",
              "rush limbaugh              55.0         10.0\n",
              "melania trump             416.0         10.0\n",
              "steve hilton               32.0         10.0\n",
              "ron desanti                14.0         10.0\n",
              "ted cruz                  603.0         10.0\n",
              "andrew cuomo              268.0         10.0\n",
              "paul ryan                  73.0          9.0\n",
              "gregg jarrett              28.0          9.0\n",
              "rand paul                 312.0          9.0\n",
              "mitch mcconnell           547.0          9.0\n",
              "mike pence               1568.0          8.0\n",
              "jeff flake                 42.0          8.0\n",
              "john kelly                136.0          8.0\n",
              "richard burr              104.0          8.0"
            ]
          },
          "metadata": {
            "tags": []
          },
          "execution_count": 77
        }
      ]
    },
    {
      "cell_type": "code",
      "metadata": {
        "id": "qqSR8bYP5TkN",
        "colab_type": "code",
        "colab": {}
      },
      "source": [
        ""
      ],
      "execution_count": 0,
      "outputs": []
    }
  ]
}